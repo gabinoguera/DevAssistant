{
 "cells": [
  {
   "cell_type": "code",
   "execution_count": 18,
   "outputs": [],
   "source": [
    "import os\n",
    "from openai import OpenAI\n",
    "\n",
    "# Cargar las variables de entorno desde el archivo .env\n",
    "from dotenv import load_dotenv, find_dotenv\n",
    "_ = load_dotenv(find_dotenv())\n",
    "\n",
    "client = OpenAI(\n",
    "    # This is the default and can be omitted\n",
    "    api_key = os.getenv(\"OPENAI_API_KEY\"),\n",
    ")"
   ],
   "metadata": {
    "collapsed": false,
    "ExecuteTime": {
     "end_time": "2024-01-04T15:19:48.989234400Z",
     "start_time": "2024-01-04T15:19:48.794847300Z"
    }
   },
   "id": "33ba9138f38395f8"
  },
  {
   "cell_type": "code",
   "execution_count": 19,
   "id": "initial_id",
   "metadata": {
    "collapsed": true,
    "ExecuteTime": {
     "end_time": "2024-01-04T15:19:51.229003700Z",
     "start_time": "2024-01-04T15:19:51.223755800Z"
    }
   },
   "outputs": [],
   "source": [
    "def read_html_file(file_path):\n",
    "    with open(file_path, 'r', encoding='utf-8') as file:\n",
    "        html_content = file.read()\n",
    "    return html_content\n",
    "\n",
    "# Usar la función para leer tu archivo HTML\n",
    "html_content = read_html_file('exportToHTML/html_udavinci.html')"
   ]
  },
  {
   "cell_type": "code",
   "execution_count": 20,
   "outputs": [],
   "source": [
    "def generate_content(html_content, user_prompt, previous_messages, model=\"gpt-4-1106-preview\", max_tokens=1500, temperature=0):\n",
    "    \n",
    "    # Append the new user prompt to the message history\n",
    "    message_history = previous_messages.copy()\n",
    "    message_history.append({\"role\": \"user\", \"content\": user_prompt})\n",
    "\n",
    "    gpt_response = client.chat.completions.create(\n",
    "        model=model,\n",
    "        messages=message_history,  # Include previous messages for context.\n",
    "        max_tokens=max_tokens,\n",
    "        n=1,\n",
    "        stop=None,\n",
    "        temperature=temperature,\n",
    "    )\n",
    "    # Extract the content from the response\n",
    "    response = gpt_response.choices[0].message.content\n",
    "    # Append GPT's response to the message history\n",
    "    message_history.append({\"role\": \"assistant\", \"content\": response})\n",
    "    return response, message_history"
   ],
   "metadata": {
    "collapsed": false,
    "ExecuteTime": {
     "end_time": "2024-01-04T15:19:55.060200500Z",
     "start_time": "2024-01-04T15:19:55.054202400Z"
    }
   },
   "id": "b884e6a3964b906a"
  },
  {
   "cell_type": "code",
   "execution_count": 21,
   "outputs": [],
   "source": [
    "# Initialize the message history\n",
    "message_history = [\n",
    "    {\"role\": \"system\", \"content\": \"Simulate an exceptionally SEO expert...\"}\n",
    "]"
   ],
   "metadata": {
    "collapsed": false,
    "ExecuteTime": {
     "end_time": "2024-01-04T15:20:21.030171300Z",
     "start_time": "2024-01-04T15:20:21.024653900Z"
    }
   },
   "id": "271357f7a5bfeda7"
  },
  {
   "cell_type": "code",
   "execution_count": 23,
   "outputs": [
    {
     "ename": "AttributeError",
     "evalue": "'str' object has no attribute 'copy'",
     "output_type": "error",
     "traceback": [
      "\u001B[1;31m---------------------------------------------------------------------------\u001B[0m",
      "\u001B[1;31mAttributeError\u001B[0m                            Traceback (most recent call last)",
      "Cell \u001B[1;32mIn[23], line 3\u001B[0m\n\u001B[0;32m      1\u001B[0m \u001B[38;5;66;03m# Set the first user prompt\u001B[39;00m\n\u001B[0;32m      2\u001B[0m user_prompt \u001B[38;5;241m=\u001B[39m \u001B[38;5;124m\"\u001B[39m\u001B[38;5;124mgive me some seo ideas for the development based on the following HTML content: \u001B[39m\u001B[38;5;124m\"\u001B[39m \u001B[38;5;241m+\u001B[39m html_content\n\u001B[1;32m----> 3\u001B[0m response, message_history \u001B[38;5;241m=\u001B[39m \u001B[43mgenerate_content\u001B[49m\u001B[43m(\u001B[49m\u001B[43mhtml_content\u001B[49m\u001B[43m,\u001B[49m\u001B[43m \u001B[49m\u001B[38;5;28;43;01mNone\u001B[39;49;00m\u001B[43m,\u001B[49m\u001B[43m \u001B[49m\u001B[43muser_prompt\u001B[49m\u001B[43m,\u001B[49m\u001B[43m \u001B[49m\u001B[43mmessage_history\u001B[49m\u001B[43m)\u001B[49m\n\u001B[0;32m      4\u001B[0m \u001B[38;5;28mprint\u001B[39m(response)\n",
      "Cell \u001B[1;32mIn[20], line 4\u001B[0m, in \u001B[0;36mgenerate_content\u001B[1;34m(html_content, user_prompt, previous_messages, model, max_tokens, temperature)\u001B[0m\n\u001B[0;32m      1\u001B[0m \u001B[38;5;28;01mdef\u001B[39;00m \u001B[38;5;21mgenerate_content\u001B[39m(html_content, user_prompt, previous_messages, model\u001B[38;5;241m=\u001B[39m\u001B[38;5;124m\"\u001B[39m\u001B[38;5;124mgpt-4-1106-preview\u001B[39m\u001B[38;5;124m\"\u001B[39m, max_tokens\u001B[38;5;241m=\u001B[39m\u001B[38;5;241m1500\u001B[39m, temperature\u001B[38;5;241m=\u001B[39m\u001B[38;5;241m0\u001B[39m):\n\u001B[0;32m      2\u001B[0m     \n\u001B[0;32m      3\u001B[0m     \u001B[38;5;66;03m# Append the new user prompt to the message history\u001B[39;00m\n\u001B[1;32m----> 4\u001B[0m     message_history \u001B[38;5;241m=\u001B[39m \u001B[43mprevious_messages\u001B[49m\u001B[38;5;241;43m.\u001B[39;49m\u001B[43mcopy\u001B[49m()\n\u001B[0;32m      5\u001B[0m     message_history\u001B[38;5;241m.\u001B[39mappend({\u001B[38;5;124m\"\u001B[39m\u001B[38;5;124mrole\u001B[39m\u001B[38;5;124m\"\u001B[39m: \u001B[38;5;124m\"\u001B[39m\u001B[38;5;124muser\u001B[39m\u001B[38;5;124m\"\u001B[39m, \u001B[38;5;124m\"\u001B[39m\u001B[38;5;124mcontent\u001B[39m\u001B[38;5;124m\"\u001B[39m: user_prompt})\n\u001B[0;32m      7\u001B[0m     gpt_response \u001B[38;5;241m=\u001B[39m client\u001B[38;5;241m.\u001B[39mchat\u001B[38;5;241m.\u001B[39mcompletions\u001B[38;5;241m.\u001B[39mcreate(\n\u001B[0;32m      8\u001B[0m         model\u001B[38;5;241m=\u001B[39mmodel,\n\u001B[0;32m      9\u001B[0m         messages\u001B[38;5;241m=\u001B[39mmessage_history,  \u001B[38;5;66;03m# Include previous messages for context.\u001B[39;00m\n\u001B[1;32m   (...)\u001B[0m\n\u001B[0;32m     13\u001B[0m         temperature\u001B[38;5;241m=\u001B[39mtemperature,\n\u001B[0;32m     14\u001B[0m     )\n",
      "\u001B[1;31mAttributeError\u001B[0m: 'str' object has no attribute 'copy'"
     ]
    }
   ],
   "source": [
    "# Set the first user prompt\n",
    "user_prompt = \"give me some seo ideas for the development based on the following HTML content: \" + html_content\n",
    "response, message_history = generate_content(html_content, None, user_prompt, message_history)\n",
    "print(response)"
   ],
   "metadata": {
    "collapsed": false,
    "ExecuteTime": {
     "end_time": "2024-01-04T15:22:44.517300400Z",
     "start_time": "2024-01-04T15:22:44.503256100Z"
    }
   },
   "id": "380decabe75e1b54"
  },
  {
   "cell_type": "code",
   "execution_count": 17,
   "outputs": [
    {
     "name": "stdout",
     "output_type": "stream",
     "text": [
      "For the second idea, \"Interactive Narrative Arc Visualizer,\" you would need to follow several steps to develop the tool. Here's a roadmap to guide you through the process:\n",
      "\n",
      "### Step 1: Define Requirements and Scope\n",
      "- Determine the features and functionalities you want to include in the visualizer.\n",
      "- Decide on the level of interactivity and customization you want to offer users.\n",
      "- Establish the input format (e.g., raw text, JSON with narrative elements) and how users will provide this input.\n",
      "\n",
      "### Step 2: Research and Select Tools\n",
      "- Choose a programming language and framework for the backend (e.g., Python with Flask or Django).\n",
      "- Select a library for PDF text extraction if you need to improve upon the existing code (e.g., PyPDF2, PDFMiner).\n",
      "- Decide on a front-end framework or library for creating interactive visualizations (e.g., D3.js, Chart.js, or Plotly).\n",
      "\n",
      "### Step 3: Design the User Interface\n",
      "- Sketch out the user interface (UI) design, focusing on simplicity and usability.\n",
      "- Plan the layout of the visualization, controls for interactivity, and any additional information you want to display.\n",
      "\n",
      "### Step 4: Set Up the Development Environment\n",
      "- Prepare your development environment with all necessary dependencies and libraries.\n",
      "- Set up version control using a system like Git to manage your codebase.\n",
      "\n",
      "### Step 5: Implement PDF Text Extraction\n",
      "- Enhance or reuse the existing code to reliably extract text from uploaded PDFs.\n",
      "- Ensure the text extraction handles different PDF structures and formats well.\n",
      "\n",
      "### Step 6: Develop the Narrative Analysis Logic\n",
      "- Write the code to analyze the extracted text and identify elements of the narrative arc.\n",
      "- Implement logic to quantify events as 'Good Fortune' or 'Bad Fortune' and to summarize key points.\n",
      "\n",
      "### Step 7: Create the Visualization Component\n",
      "- Use the selected front-end library to develop the visualization of the narrative arc.\n",
      "- Implement interactive features, such as zooming, panning, and clicking on points to view details.\n",
      "\n",
      "### Step 8: Integrate Front-end and Back-end\n",
      "- Connect the back-end logic with the front-end visualization.\n",
      "- Ensure that the user input is processed and visualized correctly.\n",
      "\n",
      "### Step 9: Testing\n",
      "- Test the tool with various PDFs to ensure accurate text extraction and analysis.\n",
      "- Conduct user testing to gather feedback on the UI and interactivity.\n",
      "\n",
      "### Step 10: Deployment\n",
      "- Prepare the application for deployment.\n",
      "- Choose a hosting service and deploy the application.\n",
      "- Set up monitoring and logging to track the application's performance and usage.\n",
      "\n",
      "### Step 11: Documentation and User Guide\n",
      "- Write documentation for the tool, explaining how to use it and its features.\n",
      "- Create a user guide or tutorial to help new users get started.\n",
      "\n",
      "### Step 12: Maintenance and Updates\n",
      "- Monitor the application for issues and gather user feedback.\n",
      "- Plan for maintenance and updates based on user feedback and technological advancements.\n",
      "\n",
      "### Step 13: Promotion\n",
      "- Promote the tool to your target audience.\n",
      "- Consider creating a blog post or video tutorial showcasing its features and potential uses.\n",
      "\n",
      "Throughout this process, it's important to iterate based on feedback and testing. Start with a minimum viable product (MVP) that includes the core functionality and then expand with additional features based on user needs and feedback.\n"
     ]
    }
   ],
   "source": [
    "# Set the second user prompt as a variable\n",
    "user_prompt_question = \"What are the next steps I should take for the second idea?\"\n",
    "response, message_history = generate_content(html_content, None, user_prompt_question, message_history)\n",
    "print(response)"
   ],
   "metadata": {
    "collapsed": false,
    "ExecuteTime": {
     "end_time": "2024-01-04T14:24:19.373321100Z",
     "start_time": "2024-01-04T14:23:12.022817800Z"
    }
   },
   "id": "eb9cbb7cd098b29d"
  }
 ],
 "metadata": {
  "kernelspec": {
   "display_name": "Python 3",
   "language": "python",
   "name": "python3"
  },
  "language_info": {
   "codemirror_mode": {
    "name": "ipython",
    "version": 2
   },
   "file_extension": ".py",
   "mimetype": "text/x-python",
   "name": "python",
   "nbconvert_exporter": "python",
   "pygments_lexer": "ipython2",
   "version": "2.7.6"
  }
 },
 "nbformat": 4,
 "nbformat_minor": 5
}
