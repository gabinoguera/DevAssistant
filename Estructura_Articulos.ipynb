{
 "cells": [
  {
   "cell_type": "code",
   "execution_count": 1,
   "id": "initial_id",
   "metadata": {
    "collapsed": true,
    "ExecuteTime": {
     "end_time": "2023-12-27T14:37:57.581754700Z",
     "start_time": "2023-12-27T14:37:57.468959700Z"
    }
   },
   "outputs": [],
   "source": [
    "from pypdf import PdfReader\n"
   ]
  },
  {
   "cell_type": "code",
   "execution_count": null,
   "outputs": [],
   "source": [
    "#Extrae el texto de cada pagina\n",
    "reader = PdfReader(\"pdf_files/Goldsmith_Kenneth_escritura_No_creativa.pdf\")\n",
    "page = reader.pages[120]\n",
    "print(page.extract_text())"
   ],
   "metadata": {
    "collapsed": false
   },
   "id": "8a8891d5a3cbacaa"
  },
  {
   "cell_type": "code",
   "execution_count": 3,
   "outputs": [
    {
     "ename": "FileNotFoundError",
     "evalue": "[Errno 2] No such file or directory: 'pdf_files/Goldsmith_Kenneth_escritura_No_creativa.pdf'",
     "output_type": "error",
     "traceback": [
      "\u001B[1;31m---------------------------------------------------------------------------\u001B[0m",
      "\u001B[1;31mFileNotFoundError\u001B[0m                         Traceback (most recent call last)",
      "Cell \u001B[1;32mIn[3], line 17\u001B[0m\n\u001B[0;32m     14\u001B[0m     \u001B[38;5;28;01mreturn\u001B[39;00m text\n\u001B[0;32m     16\u001B[0m \u001B[38;5;66;03m# Ejemplo de uso\u001B[39;00m\n\u001B[1;32m---> 17\u001B[0m pdf_text \u001B[38;5;241m=\u001B[39m \u001B[43mextract_text_from_pdf\u001B[49m\u001B[43m(\u001B[49m\u001B[38;5;124;43m\"\u001B[39;49m\u001B[38;5;124;43mpdf_files/Goldsmith_Kenneth_escritura_No_creativa.pdf\u001B[39;49m\u001B[38;5;124;43m\"\u001B[39;49m\u001B[43m)\u001B[49m\n\u001B[0;32m     18\u001B[0m \u001B[38;5;28mprint\u001B[39m(pdf_text)\n",
      "Cell \u001B[1;32mIn[3], line 8\u001B[0m, in \u001B[0;36mextract_text_from_pdf\u001B[1;34m(file_path)\u001B[0m\n\u001B[0;32m      7\u001B[0m \u001B[38;5;28;01mdef\u001B[39;00m \u001B[38;5;21mextract_text_from_pdf\u001B[39m(file_path):\n\u001B[1;32m----> 8\u001B[0m     \u001B[38;5;28;01mwith\u001B[39;00m \u001B[38;5;28;43mopen\u001B[39;49m\u001B[43m(\u001B[49m\u001B[43mfile_path\u001B[49m\u001B[43m,\u001B[49m\u001B[43m \u001B[49m\u001B[38;5;124;43m\"\u001B[39;49m\u001B[38;5;124;43mrb\u001B[39;49m\u001B[38;5;124;43m\"\u001B[39;49m\u001B[43m)\u001B[49m \u001B[38;5;28;01mas\u001B[39;00m file:\n\u001B[0;32m      9\u001B[0m         pdf_reader \u001B[38;5;241m=\u001B[39m pypdf\u001B[38;5;241m.\u001B[39mPdfReader(file)\n\u001B[0;32m     10\u001B[0m         text \u001B[38;5;241m=\u001B[39m \u001B[38;5;124m\"\u001B[39m\u001B[38;5;124m\"\u001B[39m\n",
      "File \u001B[1;32m~\\Euroinnova\\Pipelines\\venv\\Lib\\site-packages\\IPython\\core\\interactiveshell.py:310\u001B[0m, in \u001B[0;36m_modified_open\u001B[1;34m(file, *args, **kwargs)\u001B[0m\n\u001B[0;32m    303\u001B[0m \u001B[38;5;28;01mif\u001B[39;00m file \u001B[38;5;129;01min\u001B[39;00m {\u001B[38;5;241m0\u001B[39m, \u001B[38;5;241m1\u001B[39m, \u001B[38;5;241m2\u001B[39m}:\n\u001B[0;32m    304\u001B[0m     \u001B[38;5;28;01mraise\u001B[39;00m \u001B[38;5;167;01mValueError\u001B[39;00m(\n\u001B[0;32m    305\u001B[0m         \u001B[38;5;124mf\u001B[39m\u001B[38;5;124m\"\u001B[39m\u001B[38;5;124mIPython won\u001B[39m\u001B[38;5;124m'\u001B[39m\u001B[38;5;124mt let you open fd=\u001B[39m\u001B[38;5;132;01m{\u001B[39;00mfile\u001B[38;5;132;01m}\u001B[39;00m\u001B[38;5;124m by default \u001B[39m\u001B[38;5;124m\"\u001B[39m\n\u001B[0;32m    306\u001B[0m         \u001B[38;5;124m\"\u001B[39m\u001B[38;5;124mas it is likely to crash IPython. If you know what you are doing, \u001B[39m\u001B[38;5;124m\"\u001B[39m\n\u001B[0;32m    307\u001B[0m         \u001B[38;5;124m\"\u001B[39m\u001B[38;5;124myou can use builtins\u001B[39m\u001B[38;5;124m'\u001B[39m\u001B[38;5;124m open.\u001B[39m\u001B[38;5;124m\"\u001B[39m\n\u001B[0;32m    308\u001B[0m     )\n\u001B[1;32m--> 310\u001B[0m \u001B[38;5;28;01mreturn\u001B[39;00m \u001B[43mio_open\u001B[49m\u001B[43m(\u001B[49m\u001B[43mfile\u001B[49m\u001B[43m,\u001B[49m\u001B[43m \u001B[49m\u001B[38;5;241;43m*\u001B[39;49m\u001B[43margs\u001B[49m\u001B[43m,\u001B[49m\u001B[43m \u001B[49m\u001B[38;5;241;43m*\u001B[39;49m\u001B[38;5;241;43m*\u001B[39;49m\u001B[43mkwargs\u001B[49m\u001B[43m)\u001B[49m\n",
      "\u001B[1;31mFileNotFoundError\u001B[0m: [Errno 2] No such file or directory: 'pdf_files/Goldsmith_Kenneth_escritura_No_creativa.pdf'"
     ]
    }
   ],
   "source": [
    "#Extraer el texto de todas las paginas\n",
    "\n",
    "import pypdf\n",
    "\n",
    "reader = PdfReader(\"pdf_files/content_template.pdf\")\n",
    "\n",
    "def extract_text_from_pdf(file_path):\n",
    "    with open(file_path, \"rb\") as file:\n",
    "        pdf_reader = pypdf.PdfReader(file)\n",
    "        text = \"\"\n",
    "        for page_number in range(len(reader.pages)):\n",
    "            page = reader.pages[page_number]\n",
    "            text += page.extract_text()\n",
    "    return text\n",
    "\n",
    "# Ejemplo de uso\n",
    "pdf_text = extract_text_from_pdf(\"pdf_files/Goldsmith_Kenneth_escritura_No_creativa.pdf\")\n",
    "print(pdf_text)"
   ],
   "metadata": {
    "collapsed": false,
    "ExecuteTime": {
     "end_time": "2023-12-27T14:38:24.037035700Z",
     "start_time": "2023-12-27T14:38:23.834106400Z"
    }
   },
   "id": "23bba2fb2831d698"
  },
  {
   "cell_type": "code",
   "execution_count": 15,
   "outputs": [],
   "source": [
    "import os\n",
    "from openai import OpenAI\n",
    "\n",
    "# Cargar las variables de entorno desde el archivo .env\n",
    "from dotenv import load_dotenv, find_dotenv\n",
    "_ = load_dotenv(find_dotenv())\n",
    "\n",
    "client = OpenAI(\n",
    "    # This is the default and can be omitted\n",
    "    api_key = os.getenv(\"OPENAI_API_KEY\"),\n",
    ")"
   ],
   "metadata": {
    "collapsed": false,
    "ExecuteTime": {
     "end_time": "2023-12-22T10:34:50.316209400Z",
     "start_time": "2023-12-22T10:34:50.148980900Z"
    }
   },
   "id": "60381f938e1b308c"
  },
  {
   "cell_type": "code",
   "execution_count": 27,
   "outputs": [
    {
     "name": "stdout",
     "output_type": "stream",
     "text": [
      "URL: [La URL específica del artículo se insertará aquí una vez que el artículo esté publicado en el blog]\n",
      "\n",
      "Keyword: tecnologías en la educación\n",
      "\n",
      "H1: Las tecnologías en la educación: transformando el aprendizaje en la era digital\n",
      "\n",
      "H2: ¿Qué son las tecnologías en la educación y cómo están evolucionando?\n",
      "\n",
      "H2: Beneficios de integrar tecnologías en la educación para estudiantes y docentes\n",
      "\n",
      "H2: Herramientas tecnológicas clave para un aprendizaje efectivo en línea\n",
      "\n",
      "H2: Casos de éxito: cómo las tecnologías en la educación están cambiando las aulas\n",
      "\n",
      "H2: Desafíos y consideraciones al implementar tecnologías educativas\n",
      "\n",
      "[El contenido del artículo se desarrollará bajo cada uno de estos encabezados, asegurando la coherencia semántica y la relevancia de la información proporcionada, sin llegar a conclusiones para mantener el enfoque informativo y de valor para el usuario.]\n"
     ]
    }
   ],
   "source": [
    "def generate_content(pdf_text, model=\"gpt-4-1106-preview\", max_tokens=1500, temperature=0):\n",
    "    gpt_response = client.chat.completions.create(\n",
    "        model=model,\n",
    "        messages=[\n",
    "            {\"role\": \"system\", \"content\": \"Simulate an exceptionally talented SEO and Search Marketing expert. Given the following instructions, think step by step and produce the best possible output you can. Language: spanish. Output Codification: UTF-8.\"},\n",
    "            {\"role\": \"user\", \"content\": f\"keeping in mind the SEO keywords and data being provided in our content_template: {pdf_text}. Create the structure of an article for a blog dedicated to the sale of online courses. The structure of the articles should be: - URL: - Keyword: - H1: - H2: - H2: - H2: - H2: - H2:\\ The articles must have a semantic coherence related to the information provided. Do not give conclusions and provide relevant information to the user.\"}],\n",
    "        max_tokens=max_tokens,\n",
    "        n=1,\n",
    "        stop=None,\n",
    "        temperature=temperature,\n",
    "    )\n",
    "    \n",
    "    response = gpt_response.choices[0].message.content\n",
    "\n",
    "    # Split response and filter out empty lines\n",
    "    content_lines = [line.strip() for line in response.split('\\n') if line.strip()]\n",
    "    \n",
    "    # Combine the lines into a single string with proper formatting\n",
    "    structured_content = '\\n\\n'.join(content_lines)\n",
    "\n",
    "    return structured_content\n",
    "\n",
    "content = generate_content(pdf_text)\n",
    "print(content)"
   ],
   "metadata": {
    "collapsed": false,
    "ExecuteTime": {
     "end_time": "2023-12-22T11:37:51.746688500Z",
     "start_time": "2023-12-22T11:37:38.019606500Z"
    }
   },
   "id": "65c06ee2f20511d9"
  },
  {
   "cell_type": "code",
   "execution_count": null,
   "outputs": [],
   "source": [],
   "metadata": {
    "collapsed": false
   },
   "id": "1306ecf69570782e"
  }
 ],
 "metadata": {
  "kernelspec": {
   "display_name": "Python 3",
   "language": "python",
   "name": "python3"
  },
  "language_info": {
   "codemirror_mode": {
    "name": "ipython",
    "version": 2
   },
   "file_extension": ".py",
   "mimetype": "text/x-python",
   "name": "python",
   "nbconvert_exporter": "python",
   "pygments_lexer": "ipython2",
   "version": "2.7.6"
  }
 },
 "nbformat": 4,
 "nbformat_minor": 5
}
